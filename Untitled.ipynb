{
 "cells": [
  {
   "cell_type": "code",
   "execution_count": null,
   "id": "6cf73782",
   "metadata": {},
   "outputs": [],
   "source": [
    "from pycaret.datasets import get_data\n",
    "insurance = get_data('insurance')\n",
    "\n",
    "from pycaret.regression import *\n",
    "r1 = setup(insurance, target = 'charges', session_id = 123,silent=True\n",
    "           normalize = True,\n",
    "           polynomial_features = True, trigonometry_features = True,\n",
    "           feature_interaction=True,\n",
    "           bin_numeric_features= ['age', 'bmi'])"
   ]
  },
  {
   "cell_type": "code",
   "execution_count": null,
   "id": "6afe6d5c",
   "metadata": {},
   "outputs": [],
   "source": [
    "s = setup(data, target = 'charges', session_id = 123)"
   ]
  }
 ],
 "metadata": {
  "kernelspec": {
   "display_name": "Python 3 (ipykernel)",
   "language": "python",
   "name": "python3"
  },
  "language_info": {
   "codemirror_mode": {
    "name": "ipython",
    "version": 3
   },
   "file_extension": ".py",
   "mimetype": "text/x-python",
   "name": "python",
   "nbconvert_exporter": "python",
   "pygments_lexer": "ipython3",
   "version": "3.8.5"
  }
 },
 "nbformat": 4,
 "nbformat_minor": 5
}
